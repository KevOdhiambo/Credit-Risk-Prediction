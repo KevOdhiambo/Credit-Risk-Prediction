{
  "nbformat": 4,
  "nbformat_minor": 0,
  "metadata": {
    "colab": {
      "provenance": [],
      "gpuType": "T4",
      "include_colab_link": true
    },
    "kernelspec": {
      "name": "python3",
      "display_name": "Python 3"
    },
    "language_info": {
      "name": "python"
    },
    "accelerator": "GPU"
  },
  "cells": [
    {
      "cell_type": "markdown",
      "metadata": {
        "id": "view-in-github",
        "colab_type": "text"
      },
      "source": [
        "<a href=\"https://colab.research.google.com/github/KevOdhiambo/Credit-Risk-Prediction/blob/main/Tupande_Data_Science_Test_R3.ipynb\" target=\"_parent\"><img src=\"https://colab.research.google.com/assets/colab-badge.svg\" alt=\"Open In Colab\"/></a>"
      ]
    },
    {
      "cell_type": "markdown",
      "source": [
        "**Tupande Credit Risk Model**\n",
        "\n",
        "\n",
        "One Acre Fund offers loans to hundreds of thousands of smallholder farmers. Farmers repay those loans over the course of the season in small installments. One Acre Fund wants to know at different points in the season which farmers might be at risk of defaulting so we can direct the field team to follow up with them to prevent that outcome from happening. For this exercise, you are expected to complete the three part deliverables highlighted below.bold text"
      ],
      "metadata": {
        "id": "OFdSOr1_VpMS"
      }
    },
    {
      "cell_type": "markdown",
      "source": [
        "**ReadMe**\n",
        "# Credit Default Risk Prediction Model for One Acre Fund\n",
        "\n",
        "## Project Overview\n",
        "This project develops a machine learning model to predict loan repayment behavior for One Acre Fund, which provides loans to smallholder farmers. The goal is to achieve a 98% repayment rate while keeping default rates below 1%, enabling sustainable expansion of lending services.\n",
        "\n",
        "## Business Objectives\n",
        "1. Achieve a repayment rate of 98%\n",
        "2. Reduce default rate to 1%\n",
        "3. Expand farmer base by accurately targeting those likely to repay loans\n",
        "\n",
        "## Dataset Description\n",
        "The dataset contains loan information for farmers including:\n",
        "- Client ID\n",
        "- Loan Type\n",
        "- Region\n",
        "- Duka (store) name\n",
        "- Cumulative amount paid\n",
        "- Nominal contract value\n",
        "- Deposit amount\n",
        "- Contract start date\n",
        "- Area\n",
        "- Sales territory\n",
        "\n",
        "## Top 5 Key Features by Correlation with Target\n",
        "1. Nominal contract value (0.880)\n",
        "2. Cumulative amount paid start (0.845)\n",
        "3. Deposit amount (0.748)\n",
        "4. Repayment ratio (0.371)\n",
        "5. Loan Type (0.111)\n",
        "\n",
        "## Usage\n",
        "Run the notebooks in sequence:\n",
        "\n",
        "Data Preparation\n",
        "Exploratory Analysis\n",
        "Model Development\n",
        "Model Performance Metrics\n",
        "Model accuracy\n",
        "Holdout Prediction\n",
        "\n",
        "\n"
      ],
      "metadata": {
        "id": "zLe2qBfwWiwu"
      }
    },
    {
      "cell_type": "code",
      "source": [
        "#install necessary modules\n",
        "!pip install xgboost\n",
        "!pip install lightgbm\n",
        "!pip install openpyxl"
      ],
      "metadata": {
        "colab": {
          "base_uri": "https://localhost:8080/"
        },
        "id": "LUWVEkJXghVx",
        "outputId": "3864bdcb-78bb-4cb9-83b3-5dce671dc8ce"
      },
      "execution_count": null,
      "outputs": [
        {
          "output_type": "stream",
          "name": "stdout",
          "text": [
            "Requirement already satisfied: xgboost in /usr/local/lib/python3.10/dist-packages (2.1.2)\n",
            "Requirement already satisfied: numpy in /usr/local/lib/python3.10/dist-packages (from xgboost) (1.26.4)\n",
            "Requirement already satisfied: nvidia-nccl-cu12 in /usr/local/lib/python3.10/dist-packages (from xgboost) (2.23.4)\n",
            "Requirement already satisfied: scipy in /usr/local/lib/python3.10/dist-packages (from xgboost) (1.13.1)\n",
            "Requirement already satisfied: lightgbm in /usr/local/lib/python3.10/dist-packages (4.5.0)\n",
            "Requirement already satisfied: numpy>=1.17.0 in /usr/local/lib/python3.10/dist-packages (from lightgbm) (1.26.4)\n",
            "Requirement already satisfied: scipy in /usr/local/lib/python3.10/dist-packages (from lightgbm) (1.13.1)\n",
            "Requirement already satisfied: openpyxl in /usr/local/lib/python3.10/dist-packages (3.1.5)\n",
            "Requirement already satisfied: et-xmlfile in /usr/local/lib/python3.10/dist-packages (from openpyxl) (2.0.0)\n"
          ]
        }
      ]
    },
    {
      "cell_type": "code",
      "execution_count": 17,
      "metadata": {
        "id": "F46TihfOf36I"
      },
      "outputs": [],
      "source": [
        "# Import required libraries\n",
        "import pandas as pd\n",
        "import numpy as np\n",
        "from sklearn.model_selection import train_test_split, GridSearchCV,  learning_curve\n",
        "from sklearn.preprocessing import StandardScaler, LabelEncoder\n",
        "from sklearn.ensemble import RandomForestRegressor\n",
        "from xgboost import XGBRegressor\n",
        "from sklearn.metrics import r2_score, mean_absolute_error, mean_squared_error\n",
        "import matplotlib.pyplot as plt\n",
        "import seaborn as sns\n",
        "import warnings\n",
        "warnings.filterwarnings('ignore')"
      ]
    },
    {
      "cell_type": "code",
      "source": [
        "from google.colab import drive\n",
        "drive.mount('/content/drive')"
      ],
      "metadata": {
        "colab": {
          "base_uri": "https://localhost:8080/"
        },
        "id": "S99HyEVygIoy",
        "outputId": "d2d8795c-48c2-44b0-cf72-d89f08a20931"
      },
      "execution_count": 23,
      "outputs": [
        {
          "output_type": "stream",
          "name": "stdout",
          "text": [
            "Drive already mounted at /content/drive; to attempt to forcibly remount, call drive.mount(\"/content/drive\", force_remount=True).\n"
          ]
        }
      ]
    },
    {
      "cell_type": "code",
      "source": [
        "# 1. Load and Initial Data Exploration\n",
        "\n",
        "train_df = pd.read_excel('/content/drive/MyDrive/DS Task/DSR3DATA.xlsx',sheet_name=\"Training\")\n",
        "holdout_df = pd.read_excel('/content/drive/MyDrive/DS Task/DSR3DATA.xlsx',sheet_name=\"Holdout\")\n",
        "\n",
        "print(\"Training set shape:\", train_df.shape)\n",
        "print(\"Holdout set shape:\", holdout_df.shape)"
      ],
      "metadata": {
        "colab": {
          "base_uri": "https://localhost:8080/"
        },
        "id": "X12PkBl7gQTT",
        "outputId": "d74f9d71-ff00-4415-dd0e-3b2eb40b38ac"
      },
      "execution_count": 24,
      "outputs": [
        {
          "output_type": "stream",
          "name": "stdout",
          "text": [
            "Training set shape: (36215, 11)\n",
            "Holdout set shape: (9207, 10)\n"
          ]
        }
      ]
    },
    {
      "cell_type": "code",
      "source": [
        "#Preview the training data\n",
        "train_df.head(5)"
      ],
      "metadata": {
        "colab": {
          "base_uri": "https://localhost:8080/",
          "height": 313
        },
        "id": "02GnuQIYCPmV",
        "outputId": "20e8b203-bac4-40d3-e6ac-3e9da8d4ac16"
      },
      "execution_count": 25,
      "outputs": [
        {
          "output_type": "execute_result",
          "data": {
            "text/plain": [
              "                                           client_id        Loan_Type  \\\n",
              "0  206a00541b2d03a61786f2f7880f5e0a98854ef67be07d...       Group Loan   \n",
              "1  b2fa984220bcdc664c185a776b4f42f12af27b689bd5be...       Group Loan   \n",
              "2  91e017583615b0d0c1f66b3a9cfd6abc8dce0050cd7d2c...       Group Loan   \n",
              "3  19289e32292c7268a092df4c8f529d8a3716f94012b077...  Individual Loan   \n",
              "4  35f9a64a0d421171d5ad07c3441ddd3e7db87492099be6...       Group Loan   \n",
              "\n",
              "          region duka_name  cumulative_amount_paid  nominal_contract_value  \\\n",
              "0  Upper Western     Luuya             5383.287252             5383.287252   \n",
              "1  Lower Western   Majengo             1710.141496             1952.411541   \n",
              "2         Nyanza     Bomet             1273.739414             5256.271151   \n",
              "3         Nyanza  Nyakongo              270.032839              806.240904   \n",
              "4  Upper Western    Bokoli            11665.127083            11665.127083   \n",
              "\n",
              "   deposit_amount contract_start_date  area      sales_territory  \\\n",
              "0      576.986844          2023-03-01  UW10  Sales Territory 189   \n",
              "1      610.764820          2023-02-25  LW12  Sales Territory 119   \n",
              "2     1081.842238          2023-02-11  NZ12  Sales territory 949   \n",
              "3      192.880599          2023-01-06  NZ10  Sales Territory 943   \n",
              "4     1950.690148          2023-02-02  UW10  Sales Territory 747   \n",
              "\n",
              "   cumulative_amount_paid_start  \n",
              "0                   4399.524684  \n",
              "1                    610.764820  \n",
              "2                   1084.096076  \n",
              "3                    243.222435  \n",
              "4                  10211.443524  "
            ],
            "text/html": [
              "\n",
              "  <div id=\"df-41d99727-3571-4395-a688-9950ec81d88c\" class=\"colab-df-container\">\n",
              "    <div>\n",
              "<style scoped>\n",
              "    .dataframe tbody tr th:only-of-type {\n",
              "        vertical-align: middle;\n",
              "    }\n",
              "\n",
              "    .dataframe tbody tr th {\n",
              "        vertical-align: top;\n",
              "    }\n",
              "\n",
              "    .dataframe thead th {\n",
              "        text-align: right;\n",
              "    }\n",
              "</style>\n",
              "<table border=\"1\" class=\"dataframe\">\n",
              "  <thead>\n",
              "    <tr style=\"text-align: right;\">\n",
              "      <th></th>\n",
              "      <th>client_id</th>\n",
              "      <th>Loan_Type</th>\n",
              "      <th>region</th>\n",
              "      <th>duka_name</th>\n",
              "      <th>cumulative_amount_paid</th>\n",
              "      <th>nominal_contract_value</th>\n",
              "      <th>deposit_amount</th>\n",
              "      <th>contract_start_date</th>\n",
              "      <th>area</th>\n",
              "      <th>sales_territory</th>\n",
              "      <th>cumulative_amount_paid_start</th>\n",
              "    </tr>\n",
              "  </thead>\n",
              "  <tbody>\n",
              "    <tr>\n",
              "      <th>0</th>\n",
              "      <td>206a00541b2d03a61786f2f7880f5e0a98854ef67be07d...</td>\n",
              "      <td>Group Loan</td>\n",
              "      <td>Upper Western</td>\n",
              "      <td>Luuya</td>\n",
              "      <td>5383.287252</td>\n",
              "      <td>5383.287252</td>\n",
              "      <td>576.986844</td>\n",
              "      <td>2023-03-01</td>\n",
              "      <td>UW10</td>\n",
              "      <td>Sales Territory 189</td>\n",
              "      <td>4399.524684</td>\n",
              "    </tr>\n",
              "    <tr>\n",
              "      <th>1</th>\n",
              "      <td>b2fa984220bcdc664c185a776b4f42f12af27b689bd5be...</td>\n",
              "      <td>Group Loan</td>\n",
              "      <td>Lower Western</td>\n",
              "      <td>Majengo</td>\n",
              "      <td>1710.141496</td>\n",
              "      <td>1952.411541</td>\n",
              "      <td>610.764820</td>\n",
              "      <td>2023-02-25</td>\n",
              "      <td>LW12</td>\n",
              "      <td>Sales Territory 119</td>\n",
              "      <td>610.764820</td>\n",
              "    </tr>\n",
              "    <tr>\n",
              "      <th>2</th>\n",
              "      <td>91e017583615b0d0c1f66b3a9cfd6abc8dce0050cd7d2c...</td>\n",
              "      <td>Group Loan</td>\n",
              "      <td>Nyanza</td>\n",
              "      <td>Bomet</td>\n",
              "      <td>1273.739414</td>\n",
              "      <td>5256.271151</td>\n",
              "      <td>1081.842238</td>\n",
              "      <td>2023-02-11</td>\n",
              "      <td>NZ12</td>\n",
              "      <td>Sales territory 949</td>\n",
              "      <td>1084.096076</td>\n",
              "    </tr>\n",
              "    <tr>\n",
              "      <th>3</th>\n",
              "      <td>19289e32292c7268a092df4c8f529d8a3716f94012b077...</td>\n",
              "      <td>Individual Loan</td>\n",
              "      <td>Nyanza</td>\n",
              "      <td>Nyakongo</td>\n",
              "      <td>270.032839</td>\n",
              "      <td>806.240904</td>\n",
              "      <td>192.880599</td>\n",
              "      <td>2023-01-06</td>\n",
              "      <td>NZ10</td>\n",
              "      <td>Sales Territory 943</td>\n",
              "      <td>243.222435</td>\n",
              "    </tr>\n",
              "    <tr>\n",
              "      <th>4</th>\n",
              "      <td>35f9a64a0d421171d5ad07c3441ddd3e7db87492099be6...</td>\n",
              "      <td>Group Loan</td>\n",
              "      <td>Upper Western</td>\n",
              "      <td>Bokoli</td>\n",
              "      <td>11665.127083</td>\n",
              "      <td>11665.127083</td>\n",
              "      <td>1950.690148</td>\n",
              "      <td>2023-02-02</td>\n",
              "      <td>UW10</td>\n",
              "      <td>Sales Territory 747</td>\n",
              "      <td>10211.443524</td>\n",
              "    </tr>\n",
              "  </tbody>\n",
              "</table>\n",
              "</div>\n",
              "    <div class=\"colab-df-buttons\">\n",
              "\n",
              "  <div class=\"colab-df-container\">\n",
              "    <button class=\"colab-df-convert\" onclick=\"convertToInteractive('df-41d99727-3571-4395-a688-9950ec81d88c')\"\n",
              "            title=\"Convert this dataframe to an interactive table.\"\n",
              "            style=\"display:none;\">\n",
              "\n",
              "  <svg xmlns=\"http://www.w3.org/2000/svg\" height=\"24px\" viewBox=\"0 -960 960 960\">\n",
              "    <path d=\"M120-120v-720h720v720H120Zm60-500h600v-160H180v160Zm220 220h160v-160H400v160Zm0 220h160v-160H400v160ZM180-400h160v-160H180v160Zm440 0h160v-160H620v160ZM180-180h160v-160H180v160Zm440 0h160v-160H620v160Z\"/>\n",
              "  </svg>\n",
              "    </button>\n",
              "\n",
              "  <style>\n",
              "    .colab-df-container {\n",
              "      display:flex;\n",
              "      gap: 12px;\n",
              "    }\n",
              "\n",
              "    .colab-df-convert {\n",
              "      background-color: #E8F0FE;\n",
              "      border: none;\n",
              "      border-radius: 50%;\n",
              "      cursor: pointer;\n",
              "      display: none;\n",
              "      fill: #1967D2;\n",
              "      height: 32px;\n",
              "      padding: 0 0 0 0;\n",
              "      width: 32px;\n",
              "    }\n",
              "\n",
              "    .colab-df-convert:hover {\n",
              "      background-color: #E2EBFA;\n",
              "      box-shadow: 0px 1px 2px rgba(60, 64, 67, 0.3), 0px 1px 3px 1px rgba(60, 64, 67, 0.15);\n",
              "      fill: #174EA6;\n",
              "    }\n",
              "\n",
              "    .colab-df-buttons div {\n",
              "      margin-bottom: 4px;\n",
              "    }\n",
              "\n",
              "    [theme=dark] .colab-df-convert {\n",
              "      background-color: #3B4455;\n",
              "      fill: #D2E3FC;\n",
              "    }\n",
              "\n",
              "    [theme=dark] .colab-df-convert:hover {\n",
              "      background-color: #434B5C;\n",
              "      box-shadow: 0px 1px 3px 1px rgba(0, 0, 0, 0.15);\n",
              "      filter: drop-shadow(0px 1px 2px rgba(0, 0, 0, 0.3));\n",
              "      fill: #FFFFFF;\n",
              "    }\n",
              "  </style>\n",
              "\n",
              "    <script>\n",
              "      const buttonEl =\n",
              "        document.querySelector('#df-41d99727-3571-4395-a688-9950ec81d88c button.colab-df-convert');\n",
              "      buttonEl.style.display =\n",
              "        google.colab.kernel.accessAllowed ? 'block' : 'none';\n",
              "\n",
              "      async function convertToInteractive(key) {\n",
              "        const element = document.querySelector('#df-41d99727-3571-4395-a688-9950ec81d88c');\n",
              "        const dataTable =\n",
              "          await google.colab.kernel.invokeFunction('convertToInteractive',\n",
              "                                                    [key], {});\n",
              "        if (!dataTable) return;\n",
              "\n",
              "        const docLinkHtml = 'Like what you see? Visit the ' +\n",
              "          '<a target=\"_blank\" href=https://colab.research.google.com/notebooks/data_table.ipynb>data table notebook</a>'\n",
              "          + ' to learn more about interactive tables.';\n",
              "        element.innerHTML = '';\n",
              "        dataTable['output_type'] = 'display_data';\n",
              "        await google.colab.output.renderOutput(dataTable, element);\n",
              "        const docLink = document.createElement('div');\n",
              "        docLink.innerHTML = docLinkHtml;\n",
              "        element.appendChild(docLink);\n",
              "      }\n",
              "    </script>\n",
              "  </div>\n",
              "\n",
              "\n",
              "<div id=\"df-11f7305f-00eb-4861-9da0-693d0fb7e527\">\n",
              "  <button class=\"colab-df-quickchart\" onclick=\"quickchart('df-11f7305f-00eb-4861-9da0-693d0fb7e527')\"\n",
              "            title=\"Suggest charts\"\n",
              "            style=\"display:none;\">\n",
              "\n",
              "<svg xmlns=\"http://www.w3.org/2000/svg\" height=\"24px\"viewBox=\"0 0 24 24\"\n",
              "     width=\"24px\">\n",
              "    <g>\n",
              "        <path d=\"M19 3H5c-1.1 0-2 .9-2 2v14c0 1.1.9 2 2 2h14c1.1 0 2-.9 2-2V5c0-1.1-.9-2-2-2zM9 17H7v-7h2v7zm4 0h-2V7h2v10zm4 0h-2v-4h2v4z\"/>\n",
              "    </g>\n",
              "</svg>\n",
              "  </button>\n",
              "\n",
              "<style>\n",
              "  .colab-df-quickchart {\n",
              "      --bg-color: #E8F0FE;\n",
              "      --fill-color: #1967D2;\n",
              "      --hover-bg-color: #E2EBFA;\n",
              "      --hover-fill-color: #174EA6;\n",
              "      --disabled-fill-color: #AAA;\n",
              "      --disabled-bg-color: #DDD;\n",
              "  }\n",
              "\n",
              "  [theme=dark] .colab-df-quickchart {\n",
              "      --bg-color: #3B4455;\n",
              "      --fill-color: #D2E3FC;\n",
              "      --hover-bg-color: #434B5C;\n",
              "      --hover-fill-color: #FFFFFF;\n",
              "      --disabled-bg-color: #3B4455;\n",
              "      --disabled-fill-color: #666;\n",
              "  }\n",
              "\n",
              "  .colab-df-quickchart {\n",
              "    background-color: var(--bg-color);\n",
              "    border: none;\n",
              "    border-radius: 50%;\n",
              "    cursor: pointer;\n",
              "    display: none;\n",
              "    fill: var(--fill-color);\n",
              "    height: 32px;\n",
              "    padding: 0;\n",
              "    width: 32px;\n",
              "  }\n",
              "\n",
              "  .colab-df-quickchart:hover {\n",
              "    background-color: var(--hover-bg-color);\n",
              "    box-shadow: 0 1px 2px rgba(60, 64, 67, 0.3), 0 1px 3px 1px rgba(60, 64, 67, 0.15);\n",
              "    fill: var(--button-hover-fill-color);\n",
              "  }\n",
              "\n",
              "  .colab-df-quickchart-complete:disabled,\n",
              "  .colab-df-quickchart-complete:disabled:hover {\n",
              "    background-color: var(--disabled-bg-color);\n",
              "    fill: var(--disabled-fill-color);\n",
              "    box-shadow: none;\n",
              "  }\n",
              "\n",
              "  .colab-df-spinner {\n",
              "    border: 2px solid var(--fill-color);\n",
              "    border-color: transparent;\n",
              "    border-bottom-color: var(--fill-color);\n",
              "    animation:\n",
              "      spin 1s steps(1) infinite;\n",
              "  }\n",
              "\n",
              "  @keyframes spin {\n",
              "    0% {\n",
              "      border-color: transparent;\n",
              "      border-bottom-color: var(--fill-color);\n",
              "      border-left-color: var(--fill-color);\n",
              "    }\n",
              "    20% {\n",
              "      border-color: transparent;\n",
              "      border-left-color: var(--fill-color);\n",
              "      border-top-color: var(--fill-color);\n",
              "    }\n",
              "    30% {\n",
              "      border-color: transparent;\n",
              "      border-left-color: var(--fill-color);\n",
              "      border-top-color: var(--fill-color);\n",
              "      border-right-color: var(--fill-color);\n",
              "    }\n",
              "    40% {\n",
              "      border-color: transparent;\n",
              "      border-right-color: var(--fill-color);\n",
              "      border-top-color: var(--fill-color);\n",
              "    }\n",
              "    60% {\n",
              "      border-color: transparent;\n",
              "      border-right-color: var(--fill-color);\n",
              "    }\n",
              "    80% {\n",
              "      border-color: transparent;\n",
              "      border-right-color: var(--fill-color);\n",
              "      border-bottom-color: var(--fill-color);\n",
              "    }\n",
              "    90% {\n",
              "      border-color: transparent;\n",
              "      border-bottom-color: var(--fill-color);\n",
              "    }\n",
              "  }\n",
              "</style>\n",
              "\n",
              "  <script>\n",
              "    async function quickchart(key) {\n",
              "      const quickchartButtonEl =\n",
              "        document.querySelector('#' + key + ' button');\n",
              "      quickchartButtonEl.disabled = true;  // To prevent multiple clicks.\n",
              "      quickchartButtonEl.classList.add('colab-df-spinner');\n",
              "      try {\n",
              "        const charts = await google.colab.kernel.invokeFunction(\n",
              "            'suggestCharts', [key], {});\n",
              "      } catch (error) {\n",
              "        console.error('Error during call to suggestCharts:', error);\n",
              "      }\n",
              "      quickchartButtonEl.classList.remove('colab-df-spinner');\n",
              "      quickchartButtonEl.classList.add('colab-df-quickchart-complete');\n",
              "    }\n",
              "    (() => {\n",
              "      let quickchartButtonEl =\n",
              "        document.querySelector('#df-11f7305f-00eb-4861-9da0-693d0fb7e527 button');\n",
              "      quickchartButtonEl.style.display =\n",
              "        google.colab.kernel.accessAllowed ? 'block' : 'none';\n",
              "    })();\n",
              "  </script>\n",
              "</div>\n",
              "\n",
              "    </div>\n",
              "  </div>\n"
            ],
            "application/vnd.google.colaboratory.intrinsic+json": {
              "type": "dataframe",
              "variable_name": "train_df",
              "summary": "{\n  \"name\": \"train_df\",\n  \"rows\": 36215,\n  \"fields\": [\n    {\n      \"column\": \"client_id\",\n      \"properties\": {\n        \"dtype\": \"string\",\n        \"num_unique_values\": 36215,\n        \"samples\": [\n          \"e20a166126cdb2b410647c40e2f1ed7b16802453bb98974977ab786ab30c29e2\",\n          \"5b5cf25811db832ff7bfbc9e6a241776f365a4d22d6cecfc62959310ffed1c89\",\n          \"2305dd76f4c2c96112c6f45f79daf323796d494ef9e93fb490c577ad1a2a96c8\"\n        ],\n        \"semantic_type\": \"\",\n        \"description\": \"\"\n      }\n    },\n    {\n      \"column\": \"Loan_Type\",\n      \"properties\": {\n        \"dtype\": \"category\",\n        \"num_unique_values\": 3,\n        \"samples\": [\n          \"Group Loan\",\n          \"Individual Loan\",\n          \"Paygo Loan\"\n        ],\n        \"semantic_type\": \"\",\n        \"description\": \"\"\n      }\n    },\n    {\n      \"column\": \"region\",\n      \"properties\": {\n        \"dtype\": \"category\",\n        \"num_unique_values\": 5,\n        \"samples\": [\n          \"Lower Western\",\n          \"Mount Kenya\",\n          \"Nyanza\"\n        ],\n        \"semantic_type\": \"\",\n        \"description\": \"\"\n      }\n    },\n    {\n      \"column\": \"duka_name\",\n      \"properties\": {\n        \"dtype\": \"category\",\n        \"num_unique_values\": 270,\n        \"samples\": [\n          \"Matayos\",\n          \"Samitsi\",\n          \"Kaptama\"\n        ],\n        \"semantic_type\": \"\",\n        \"description\": \"\"\n      }\n    },\n    {\n      \"column\": \"cumulative_amount_paid\",\n      \"properties\": {\n        \"dtype\": \"number\",\n        \"std\": 3080.518939897608,\n        \"min\": 0.0,\n        \"max\": 25045.7843177259,\n        \"num_unique_values\": 36166,\n        \"samples\": [\n          9500.43265401443,\n          7838.9895612645,\n          125.046205726234\n        ],\n        \"semantic_type\": \"\",\n        \"description\": \"\"\n      }\n    },\n    {\n      \"column\": \"nominal_contract_value\",\n      \"properties\": {\n        \"dtype\": \"number\",\n        \"std\": 3455.8753663541584,\n        \"min\": 0.0545893143551321,\n        \"max\": 43584.0572854532,\n        \"num_unique_values\": 36215,\n        \"samples\": [\n          1229.07100794284,\n          3369.75380041472,\n          5267.9761312037\n        ],\n        \"semantic_type\": \"\",\n        \"description\": \"\"\n      }\n    },\n    {\n      \"column\": \"deposit_amount\",\n      \"properties\": {\n        \"dtype\": \"number\",\n        \"std\": 777.0864719093037,\n        \"min\": 0.0,\n        \"max\": 11165.0041780761,\n        \"num_unique_values\": 36116,\n        \"samples\": [\n          4680.20158805051,\n          2389.80596697432,\n          14.1401828503068\n        ],\n        \"semantic_type\": \"\",\n        \"description\": \"\"\n      }\n    },\n    {\n      \"column\": \"contract_start_date\",\n      \"properties\": {\n        \"dtype\": \"date\",\n        \"min\": \"2023-01-03 00:00:00\",\n        \"max\": \"2023-03-01 00:00:00\",\n        \"num_unique_values\": 56,\n        \"samples\": [\n          \"2023-03-01 00:00:00\",\n          \"2023-01-27 00:00:00\",\n          \"2023-01-25 00:00:00\"\n        ],\n        \"semantic_type\": \"\",\n        \"description\": \"\"\n      }\n    },\n    {\n      \"column\": \"area\",\n      \"properties\": {\n        \"dtype\": \"category\",\n        \"num_unique_values\": 57,\n        \"samples\": [\n          \"UW10\",\n          \"LW9\",\n          \"LW14\"\n        ],\n        \"semantic_type\": \"\",\n        \"description\": \"\"\n      }\n    },\n    {\n      \"column\": \"sales_territory\",\n      \"properties\": {\n        \"dtype\": \"category\",\n        \"num_unique_values\": 839,\n        \"samples\": [\n          \"Sales Territory 647\",\n          \"Sales Territory 972\",\n          \"Sales Territory 479\"\n        ],\n        \"semantic_type\": \"\",\n        \"description\": \"\"\n      }\n    },\n    {\n      \"column\": \"cumulative_amount_paid_start\",\n      \"properties\": {\n        \"dtype\": \"number\",\n        \"std\": 2002.312769208902,\n        \"min\": -6198.00818473836,\n        \"max\": 17544.4013113763,\n        \"num_unique_values\": 36162,\n        \"samples\": [\n          6332.18743248157,\n          495.332112719016,\n          1633.98941846526\n        ],\n        \"semantic_type\": \"\",\n        \"description\": \"\"\n      }\n    }\n  ]\n}"
            }
          },
          "metadata": {},
          "execution_count": 25
        }
      ]
    },
    {
      "source": [
        "# @title Distribution of cumulative_amount_paid\n",
        "\n",
        "from matplotlib import pyplot as plt\n",
        "train_df['cumulative_amount_paid'].plot(kind='hist', bins=20, title='Dsitribution of cumulative_amount_paid')\n",
        "plt.gca().spines[['top', 'right',]].set_visible(False)"
      ],
      "cell_type": "code",
      "execution_count": null,
      "outputs": [
        {
          "output_type": "display_data",
          "data": {
            "text/plain": [
              "<Figure size 640x480 with 1 Axes>"
            ],
            "image/png": "[encoded data removed]"
          },
          "metadata": {}
        }
      ],
      "metadata": {
        "colab": {
          "base_uri": "https://localhost:8080/",
          "height": 452
        },
        "id": "DJaTM0FgomQs",
        "outputId": "e16c43b5-bec5-4215-9598-7ccc6dbb61ac"
      }
    },
    {
      "cell_type": "code",
      "source": [
        "# Basic data exploration\n",
        "def explore_data(df, title=\"Dataset\"):\n",
        "    print(f\"\\n=== {title} ===\")\n",
        "    print(\"\\nFirst few rows:\")\n",
        "    print(df.head())\n",
        "    print(\"\\nData Info:\")\n",
        "    print(df.info())\n",
        "    print(\"\\nMissing Values:\")\n",
        "    print(df.isnull().sum())\n",
        "\n",
        "explore_data(train_df, \"Training Dataset\")\n",
        "explore_data(holdout_df, \"Holdout Dataset\")"
      ],
      "metadata": {
        "colab": {
          "base_uri": "https://localhost:8080/"
        },
        "id": "WeP-4xtX2Wpz",
        "outputId": "61d1896f-a7e1-4d9d-8480-56f552eeef39"
      },
      "execution_count": 26,
      "outputs": [
        {
          "output_type": "stream",
          "name": "stdout",
          "text": [
            "\n",
            "=== Training Dataset ===\n",
            "\n",
            "First few rows:\n",
            "                                           client_id        Loan_Type  \\\n",
            "0  206a00541b2d03a61786f2f7880f5e0a98854ef67be07d...       Group Loan   \n",
            "1  b2fa984220bcdc664c185a776b4f42f12af27b689bd5be...       Group Loan   \n",
            "2  91e017583615b0d0c1f66b3a9cfd6abc8dce0050cd7d2c...       Group Loan   \n",
            "3  19289e32292c7268a092df4c8f529d8a3716f94012b077...  Individual Loan   \n",
            "4  35f9a64a0d421171d5ad07c3441ddd3e7db87492099be6...       Group Loan   \n",
            "\n",
            "          region duka_name  cumulative_amount_paid  nominal_contract_value  \\\n",
            "0  Upper Western     Luuya             5383.287252             5383.287252   \n",
            "1  Lower Western   Majengo             1710.141496             1952.411541   \n",
            "2         Nyanza     Bomet             1273.739414             5256.271151   \n",
            "3         Nyanza  Nyakongo              270.032839              806.240904   \n",
            "4  Upper Western    Bokoli            11665.127083            11665.127083   \n",
            "\n",
            "   deposit_amount contract_start_date  area      sales_territory  \\\n",
            "0      576.986844          2023-03-01  UW10  Sales Territory 189   \n",
            "1      610.764820          2023-02-25  LW12  Sales Territory 119   \n",
            "2     1081.842238          2023-02-11  NZ12  Sales territory 949   \n",
            "3      192.880599          2023-01-06  NZ10  Sales Territory 943   \n",
            "4     1950.690148          2023-02-02  UW10  Sales Territory 747   \n",
            "\n",
            "   cumulative_amount_paid_start  \n",
            "0                   4399.524684  \n",
            "1                    610.764820  \n",
            "2                   1084.096076  \n",
            "3                    243.222435  \n",
            "4                  10211.443524  \n",
            "\n",
            "Data Info:\n",
            "<class 'pandas.core.frame.DataFrame'>\n",
            "RangeIndex: 36215 entries, 0 to 36214\n",
            "Data columns (total 11 columns):\n",
            " #   Column                        Non-Null Count  Dtype         \n",
            "---  ------                        --------------  -----         \n",
            " 0   client_id                     36215 non-null  object        \n",
            " 1   Loan_Type                     36215 non-null  object        \n",
            " 2   region                        36157 non-null  object        \n",
            " 3   duka_name                     36161 non-null  object        \n",
            " 4   cumulative_amount_paid        36215 non-null  float64       \n",
            " 5   nominal_contract_value        36215 non-null  float64       \n",
            " 6   deposit_amount                36215 non-null  float64       \n",
            " 7   contract_start_date           36215 non-null  datetime64[ns]\n",
            " 8   area                          36157 non-null  object        \n",
            " 9   sales_territory               36157 non-null  object        \n",
            " 10  cumulative_amount_paid_start  36215 non-null  float64       \n",
            "dtypes: datetime64[ns](1), float64(4), object(6)\n",
            "memory usage: 3.0+ MB\n",
            "None\n",
            "\n",
            "Missing Values:\n",
            "client_id                        0\n",
            "Loan_Type                        0\n",
            "region                          58\n",
            "duka_name                       54\n",
            "cumulative_amount_paid           0\n",
            "nominal_contract_value           0\n",
            "deposit_amount                   0\n",
            "contract_start_date              0\n",
            "area                            58\n",
            "sales_territory                 58\n",
            "cumulative_amount_paid_start     0\n",
            "dtype: int64\n",
            "\n",
            "=== Holdout Dataset ===\n",
            "\n",
            "First few rows:\n",
            "                                           client_id   Loan_Type  \\\n",
            "0  16a7fbbfeb567d1d4a860ece002300de92b9ccffcfa216...  Group Loan   \n",
            "1  71ac1a16f1e81cd05013314535acee8095b6ab78e816fb...  Group Loan   \n",
            "2  de447928647d655d4857c68f39c97ce3c8ed894851af19...  Group Loan   \n",
            "3  b876995be48ca36ecce1ae4cdaaa0692b482145f8252b1...  Group Loan   \n",
            "4  ab964b6a3fd51065e958c26a66f96594b8ff07e0f614bf...  Group Loan   \n",
            "\n",
            "          region  duka_name  nominal_contract_value  deposit_amount  \\\n",
            "0  Lower Western   Kakamega             6740.791170     1086.509389   \n",
            "1         Nyanza    Kadongo             2738.638374      845.337029   \n",
            "2  Lower Western  Kilingili               18.667831        4.282506   \n",
            "3  Lower Western    Majengo             6353.976051      570.374870   \n",
            "4         Nyanza     Giribe             2380.735094      557.549202   \n",
            "\n",
            "  contract_start_date  area      sales_territory  cumulative_amount_paid_start  \n",
            "0          2023-03-01   LW4  Sales Territory 420                   1412.150740  \n",
            "1          2023-02-17  NZ13  Sales Territory 860                   1955.935535  \n",
            "2          2023-02-07  LW13  Sales Territory 787                     14.786869  \n",
            "3          2023-01-26  LW12  Sales Territory 400                   4506.041325  \n",
            "4          2023-02-13   NZ2  Sales Territory 307                   1377.146530  \n",
            "\n",
            "Data Info:\n",
            "<class 'pandas.core.frame.DataFrame'>\n",
            "RangeIndex: 9207 entries, 0 to 9206\n",
            "Data columns (total 10 columns):\n",
            " #   Column                        Non-Null Count  Dtype         \n",
            "---  ------                        --------------  -----         \n",
            " 0   client_id                     9207 non-null   object        \n",
            " 1   Loan_Type                     9207 non-null   object        \n",
            " 2   region                        9190 non-null   object        \n",
            " 3   duka_name                     9192 non-null   object        \n",
            " 4   nominal_contract_value        9207 non-null   float64       \n",
            " 5   deposit_amount                9207 non-null   float64       \n",
            " 6   contract_start_date           9207 non-null   datetime64[ns]\n",
            " 7   area                          9190 non-null   object        \n",
            " 8   sales_territory               9190 non-null   object        \n",
            " 9   cumulative_amount_paid_start  9207 non-null   float64       \n",
            "dtypes: datetime64[ns](1), float64(3), object(6)\n",
            "memory usage: 719.4+ KB\n",
            "None\n",
            "\n",
            "Missing Values:\n",
            "client_id                        0\n",
            "Loan_Type                        0\n",
            "region                          17\n",
            "duka_name                       15\n",
            "nominal_contract_value           0\n",
            "deposit_amount                   0\n",
            "contract_start_date              0\n",
            "area                            17\n",
            "sales_territory                 17\n",
            "cumulative_amount_paid_start     0\n",
            "dtype: int64\n"
          ]
        }
      ]
    },
    {
      "cell_type": "code",
      "source": [
        "# remove missing values as they are less than 2%\n",
        "train_df = train_df.dropna()\n",
        "holdout_df = holdout_df.dropna()"
      ],
      "metadata": {
        "id": "JoZoVGNNi_y2"
      },
      "execution_count": 27,
      "outputs": []
    },
    {
      "cell_type": "code",
      "source": [
        "# summary Statistics of the Train Data\n",
        "print(train_df.describe())"
      ],
      "metadata": {
        "colab": {
          "base_uri": "https://localhost:8080/"
        },
        "id": "-yQoC4Yyi7cW",
        "outputId": "1f082523-4436-4a82-8b05-2709102e9fa8"
      },
      "execution_count": 28,
      "outputs": [
        {
          "output_type": "stream",
          "name": "stdout",
          "text": [
            "       cumulative_amount_paid  nominal_contract_value  deposit_amount  \\\n",
            "count            36157.000000            36157.000000    36157.000000   \n",
            "mean              3179.029119             4021.801684      811.569953   \n",
            "min                  0.000000                0.054589        0.000000   \n",
            "25%                916.724873             1441.675095      260.970342   \n",
            "50%               2225.872359             3092.424981      585.046911   \n",
            "75%               4428.737711             5705.484943     1110.630672   \n",
            "max              25045.784318            30779.367701    11165.004178   \n",
            "std               3080.494188             3439.951691      777.051324   \n",
            "\n",
            "                 contract_start_date  cumulative_amount_paid_start  \n",
            "count                          36157                  36157.000000  \n",
            "mean   2023-02-04 20:22:11.393644288                   1912.606764  \n",
            "min              2023-01-03 00:00:00                  -6198.008185  \n",
            "25%              2023-01-20 00:00:00                    544.476858  \n",
            "50%              2023-02-06 00:00:00                   1277.661848  \n",
            "75%              2023-02-20 00:00:00                   2548.259511  \n",
            "max              2023-03-01 00:00:00                  17544.401311  \n",
            "std                              NaN                   2002.450216  \n"
          ]
        }
      ]
    },
    {
      "cell_type": "markdown",
      "source": [
        "**Exploratory Data Analysis**\n"
      ],
      "metadata": {
        "id": "I-2CoJWxU-0l"
      }
    },
    {
      "cell_type": "code",
      "source": [
        "# Distribution of Loan Types\n",
        "plt.figure(figsize=(8, 5))\n",
        "sns.countplot(data=train_df, x='Loan_Type')\n",
        "plt.title('Distribution of Loan Types')\n",
        "plt.show()"
      ],
      "metadata": {
        "id": "Iyos50JsVKjI"
      },
      "execution_count": null,
      "outputs": []
    },
    {
      "cell_type": "code",
      "source": [
        "# Distribution of Loan Types\n",
        "plt.figure(figsize=(8, 5))\n",
        "sns.countplot(data=train_df, x='Loan_Type')\n",
        "plt.title('Distribution of Loan Types')\n",
        "plt.show()"
      ],
      "metadata": {
        "id": "v3lDaWbgTegT"
      },
      "execution_count": null,
      "outputs": []
    },
    {
      "cell_type": "code",
      "source": [
        "# Visualize repayment patterns by region, sales territory\n",
        "plt.figure(figsize=(12, 8))\n",
        "sns.barplot(x='region', y='cumulative_amount_paid', data=train_df)\n",
        "plt.title('Repayment by Region')\n",
        "plt.xlabel('Region')\n",
        "plt.ylabel('Cumulative Amount Paid')\n",
        "plt.show()"
      ],
      "metadata": {
        "id": "x5yIwyHFUstX"
      },
      "execution_count": null,
      "outputs": []
    },
    {
      "cell_type": "code",
      "source": [
        "# Function to calculate repayment rate\n",
        "def calculate_repayment_rate(df):\n",
        "    \"\"\"Calculate repayment rate as percentage of loans fully paid\"\"\"\n",
        "    return (train_df['cumulative_amount_paid'] >= train_df['nominal_contract_value']).mean() * 100\n",
        "\n",
        "repayment_rate=calculate_repayment_rate(train_df)\n",
        "print(f\"Repayment Rate: {repayment_rate}%\")\n"
      ],
      "metadata": {
        "colab": {
          "base_uri": "https://localhost:8080/"
        },
        "id": "Y9W-h8BJ2DrT",
        "outputId": "71015776-582c-44f2-d8b0-0043ed182037"
      },
      "execution_count": 29,
      "outputs": [
        {
          "output_type": "stream",
          "name": "stdout",
          "text": [
            "Repayment Rate: 48.39450175622977%\n"
          ]
        }
      ]
    },
    {
      "cell_type": "code",
      "source": [
        "# Function to calculate default rate\n",
        "def calculate_default_rate(df):\n",
        "    \"\"\"Calculate default rate as percentage of loans with less than 50% repayment\"\"\"\n",
        "    return (df['cumulative_amount_paid'] < (0.5 * df['nominal_contract_value'])).mean() * 100\n",
        "\n",
        "default_rate = calculate_default_rate(train_df)\n",
        "print(f\"Default Rate: {default_rate}%\")"
      ],
      "metadata": {
        "colab": {
          "base_uri": "https://localhost:8080/"
        },
        "id": "sFF8RSPy2E1V",
        "outputId": "f017d44d-79a9-444e-831a-11260da4b96e"
      },
      "execution_count": 30,
      "outputs": [
        {
          "output_type": "stream",
          "name": "stdout",
          "text": [
            "Default Rate: 19.87167076914567%\n"
          ]
        }
      ]
    },
    {
      "cell_type": "markdown",
      "source": [
        "**Feature engineering**\n"
      ],
      "metadata": {
        "id": "-nNs-tEPVNSC"
      }
    },
    {
      "cell_type": "code",
      "source": [
        "# Feature Engineering\n",
        "def engineer_features(df):\n",
        "    \"\"\"Create new features for the dataset\"\"\"\n",
        "    df_copy = df.copy()\n",
        "\n",
        "    # Convert contract_start_date to datetime\n",
        "    df_copy['contract_start_date'] = pd.to_datetime(df_copy['contract_start_date'])\n",
        "\n",
        "    # Calculate days since start\n",
        "    df_copy['days_since_start'] = (pd.to_datetime('2023-11-01') -\n",
        "                                  df_copy['contract_start_date']).dt.days\n",
        "\n",
        "    # Calculate deposit ratio\n",
        "    df_copy['deposit_ratio'] = df_copy['deposit_amount'] / df_copy['nominal_contract_value']\n",
        "\n",
        "    # Drop original date column\n",
        "    df_copy = df_copy.drop('contract_start_date', axis=1)\n",
        "\n",
        "    return df_copy\n",
        "\n",
        "# Apply feature engineering to both datasets\n",
        "train_df_engineered = engineer_features(train_df)\n",
        "holdout_df_engineered = engineer_features(holdout_df)"
      ],
      "metadata": {
        "id": "9lsb5K3mCwlm"
      },
      "execution_count": 31,
      "outputs": []
    },
    {
      "cell_type": "code",
      "source": [
        "train_df_engineered.head()"
      ],
      "metadata": {
        "colab": {
          "base_uri": "https://localhost:8080/",
          "height": 313
        },
        "id": "j22PeKV-g0nS",
        "outputId": "b3c7a83f-77c9-4425-c28a-bffb59f9eee3"
      },
      "execution_count": 32,
      "outputs": [
        {
          "output_type": "execute_result",
          "data": {
            "text/plain": [
              "                                           client_id        Loan_Type  \\\n",
              "0  206a00541b2d03a61786f2f7880f5e0a98854ef67be07d...       Group Loan   \n",
              "1  b2fa984220bcdc664c185a776b4f42f12af27b689bd5be...       Group Loan   \n",
              "2  91e017583615b0d0c1f66b3a9cfd6abc8dce0050cd7d2c...       Group Loan   \n",
              "3  19289e32292c7268a092df4c8f529d8a3716f94012b077...  Individual Loan   \n",
              "4  35f9a64a0d421171d5ad07c3441ddd3e7db87492099be6...       Group Loan   \n",
              "\n",
              "          region duka_name  cumulative_amount_paid  nominal_contract_value  \\\n",
              "0  Upper Western     Luuya             5383.287252             5383.287252   \n",
              "1  Lower Western   Majengo             1710.141496             1952.411541   \n",
              "2         Nyanza     Bomet             1273.739414             5256.271151   \n",
              "3         Nyanza  Nyakongo              270.032839              806.240904   \n",
              "4  Upper Western    Bokoli            11665.127083            11665.127083   \n",
              "\n",
              "   deposit_amount  area      sales_territory  cumulative_amount_paid_start  \\\n",
              "0      576.986844  UW10  Sales Territory 189                   4399.524684   \n",
              "1      610.764820  LW12  Sales Territory 119                    610.764820   \n",
              "2     1081.842238  NZ12  Sales territory 949                   1084.096076   \n",
              "3      192.880599  NZ10  Sales Territory 943                    243.222435   \n",
              "4     1950.690148  UW10  Sales Territory 747                  10211.443524   \n",
              "\n",
              "   days_since_start  deposit_ratio  \n",
              "0               245       0.107181  \n",
              "1               249       0.312826  \n",
              "2               263       0.205819  \n",
              "3               299       0.239234  \n",
              "4               272       0.167224  "
            ],
            "text/html": [
              "\n",
              "  <div id=\"df-acc50819-c0fc-4fa8-a00a-8eeb156412ca\" class=\"colab-df-container\">\n",
              "    <div>\n",
              "<style scoped>\n",
              "    .dataframe tbody tr th:only-of-type {\n",
              "        vertical-align: middle;\n",
              "    }\n",
              "\n",
              "    .dataframe tbody tr th {\n",
              "        vertical-align: top;\n",
              "    }\n",
              "\n",
              "    .dataframe thead th {\n",
              "        text-align: right;\n",
              "    }\n",
              "</style>\n",
              "<table border=\"1\" class=\"dataframe\">\n",
              "  <thead>\n",
              "    <tr style=\"text-align: right;\">\n",
              "      <th></th>\n",
              "      <th>client_id</th>\n",
              "      <th>Loan_Type</th>\n",
              "      <th>region</th>\n",
              "      <th>duka_name</th>\n",
              "      <th>cumulative_amount_paid</th>\n",
              "      <th>nominal_contract_value</th>\n",
              "      <th>deposit_amount</th>\n",
              "      <th>area</th>\n",
              "      <th>sales_territory</th>\n",
              "      <th>cumulative_amount_paid_start</th>\n",
              "      <th>days_since_start</th>\n",
              "      <th>deposit_ratio</th>\n",
              "    </tr>\n",
              "  </thead>\n",
              "  <tbody>\n",
              "    <tr>\n",
              "      <th>0</th>\n",
              "      <td>206a00541b2d03a61786f2f7880f5e0a98854ef67be07d...</td>\n",
              "      <td>Group Loan</td>\n",
              "      <td>Upper Western</td>\n",
              "      <td>Luuya</td>\n",
              "      <td>5383.287252</td>\n",
              "      <td>5383.287252</td>\n",
              "      <td>576.986844</td>\n",
              "      <td>UW10</td>\n",
              "      <td>Sales Territory 189</td>\n",
              "      <td>4399.524684</td>\n",
              "      <td>245</td>\n",
              "      <td>0.107181</td>\n",
              "    </tr>\n",
              "    <tr>\n",
              "      <th>1</th>\n",
              "      <td>b2fa984220bcdc664c185a776b4f42f12af27b689bd5be...</td>\n",
              "      <td>Group Loan</td>\n",
              "      <td>Lower Western</td>\n",
              "      <td>Majengo</td>\n",
              "      <td>1710.141496</td>\n",
              "      <td>1952.411541</td>\n",
              "      <td>610.764820</td>\n",
              "      <td>LW12</td>\n",
              "      <td>Sales Territory 119</td>\n",
              "      <td>610.764820</td>\n",
              "      <td>249</td>\n",
              "      <td>0.312826</td>\n",
              "    </tr>\n",
              "    <tr>\n",
              "      <th>2</th>\n",
              "      <td>91e017583615b0d0c1f66b3a9cfd6abc8dce0050cd7d2c...</td>\n",
              "      <td>Group Loan</td>\n",
              "      <td>Nyanza</td>\n",
              "      <td>Bomet</td>\n",
              "      <td>1273.739414</td>\n",
              "      <td>5256.271151</td>\n",
              "      <td>1081.842238</td>\n",
              "      <td>NZ12</td>\n",
              "      <td>Sales territory 949</td>\n",
              "      <td>1084.096076</td>\n",
              "      <td>263</td>\n",
              "      <td>0.205819</td>\n",
              "    </tr>\n",
              "    <tr>\n",
              "      <th>3</th>\n",
              "      <td>19289e32292c7268a092df4c8f529d8a3716f94012b077...</td>\n",
              "      <td>Individual Loan</td>\n",
              "      <td>Nyanza</td>\n",
              "      <td>Nyakongo</td>\n",
              "      <td>270.032839</td>\n",
              "      <td>806.240904</td>\n",
              "      <td>192.880599</td>\n",
              "      <td>NZ10</td>\n",
              "      <td>Sales Territory 943</td>\n",
              "      <td>243.222435</td>\n",
              "      <td>299</td>\n",
              "      <td>0.239234</td>\n",
              "    </tr>\n",
              "    <tr>\n",
              "      <th>4</th>\n",
              "      <td>35f9a64a0d421171d5ad07c3441ddd3e7db87492099be6...</td>\n",
              "      <td>Group Loan</td>\n",
              "      <td>Upper Western</td>\n",
              "      <td>Bokoli</td>\n",
              "      <td>11665.127083</td>\n",
              "      <td>11665.127083</td>\n",
              "      <td>1950.690148</td>\n",
              "      <td>UW10</td>\n",
              "      <td>Sales Territory 747</td>\n",
              "      <td>10211.443524</td>\n",
              "      <td>272</td>\n",
              "      <td>0.167224</td>\n",
              "    </tr>\n",
              "  </tbody>\n",
              "</table>\n",
              "</div>\n",
              "    <div class=\"colab-df-buttons\">\n",
              "\n",
              "  <div class=\"colab-df-container\">\n",
              "    <button class=\"colab-df-convert\" onclick=\"convertToInteractive('df-acc50819-c0fc-4fa8-a00a-8eeb156412ca')\"\n",
              "            title=\"Convert this dataframe to an interactive table.\"\n",
              "            style=\"display:none;\">\n",
              "\n",
              "  <svg xmlns=\"http://www.w3.org/2000/svg\" height=\"24px\" viewBox=\"0 -960 960 960\">\n",
              "    <path d=\"M120-120v-720h720v720H120Zm60-500h600v-160H180v160Zm220 220h160v-160H400v160Zm0 220h160v-160H400v160ZM180-400h160v-160H180v160Zm440 0h160v-160H620v160ZM180-180h160v-160H180v160Zm440 0h160v-160H620v160Z\"/>\n",
              "  </svg>\n",
              "    </button>\n",
              "\n",
              "  <style>\n",
              "    .colab-df-container {\n",
              "      display:flex;\n",
              "      gap: 12px;\n",
              "    }\n",
              "\n",
              "    .colab-df-convert {\n",
              "      background-color: #E8F0FE;\n",
              "      border: none;\n",
              "      border-radius: 50%;\n",
              "      cursor: pointer;\n",
              "      display: none;\n",
              "      fill: #1967D2;\n",
              "      height: 32px;\n",
              "      padding: 0 0 0 0;\n",
              "      width: 32px;\n",
              "    }\n",
              "\n",
              "    .colab-df-convert:hover {\n",
              "      background-color: #E2EBFA;\n",
              "      box-shadow: 0px 1px 2px rgba(60, 64, 67, 0.3), 0px 1px 3px 1px rgba(60, 64, 67, 0.15);\n",
              "      fill: #174EA6;\n",
              "    }\n",
              "\n",
              "    .colab-df-buttons div {\n",
              "      margin-bottom: 4px;\n",
              "    }\n",
              "\n",
              "    [theme=dark] .colab-df-convert {\n",
              "      background-color: #3B4455;\n",
              "      fill: #D2E3FC;\n",
              "    }\n",
              "\n",
              "    [theme=dark] .colab-df-convert:hover {\n",
              "      background-color: #434B5C;\n",
              "      box-shadow: 0px 1px 3px 1px rgba(0, 0, 0, 0.15);\n",
              "      filter: drop-shadow(0px 1px 2px rgba(0, 0, 0, 0.3));\n",
              "      fill: #FFFFFF;\n",
              "    }\n",
              "  </style>\n",
              "\n",
              "    <script>\n",
              "      const buttonEl =\n",
              "        document.querySelector('#df-acc50819-c0fc-4fa8-a00a-8eeb156412ca button.colab-df-convert');\n",
              "      buttonEl.style.display =\n",
              "        google.colab.kernel.accessAllowed ? 'block' : 'none';\n",
              "\n",
              "      async function convertToInteractive(key) {\n",
              "        const element = document.querySelector('#df-acc50819-c0fc-4fa8-a00a-8eeb156412ca');\n",
              "        const dataTable =\n",
              "          await google.colab.kernel.invokeFunction('convertToInteractive',\n",
              "                                                    [key], {});\n",
              "        if (!dataTable) return;\n",
              "\n",
              "        const docLinkHtml = 'Like what you see? Visit the ' +\n",
              "          '<a target=\"_blank\" href=https://colab.research.google.com/notebooks/data_table.ipynb>data table notebook</a>'\n",
              "          + ' to learn more about interactive tables.';\n",
              "        element.innerHTML = '';\n",
              "        dataTable['output_type'] = 'display_data';\n",
              "        await google.colab.output.renderOutput(dataTable, element);\n",
              "        const docLink = document.createElement('div');\n",
              "        docLink.innerHTML = docLinkHtml;\n",
              "        element.appendChild(docLink);\n",
              "      }\n",
              "    </script>\n",
              "  </div>\n",
              "\n",
              "\n",
              "<div id=\"df-69f489a5-3fe3-4756-899b-199de98b1048\">\n",
              "  <button class=\"colab-df-quickchart\" onclick=\"quickchart('df-69f489a5-3fe3-4756-899b-199de98b1048')\"\n",
              "            title=\"Suggest charts\"\n",
              "            style=\"display:none;\">\n",
              "\n",
              "<svg xmlns=\"http://www.w3.org/2000/svg\" height=\"24px\"viewBox=\"0 0 24 24\"\n",
              "     width=\"24px\">\n",
              "    <g>\n",
              "        <path d=\"M19 3H5c-1.1 0-2 .9-2 2v14c0 1.1.9 2 2 2h14c1.1 0 2-.9 2-2V5c0-1.1-.9-2-2-2zM9 17H7v-7h2v7zm4 0h-2V7h2v10zm4 0h-2v-4h2v4z\"/>\n",
              "    </g>\n",
              "</svg>\n",
              "  </button>\n",
              "\n",
              "<style>\n",
              "  .colab-df-quickchart {\n",
              "      --bg-color: #E8F0FE;\n",
              "      --fill-color: #1967D2;\n",
              "      --hover-bg-color: #E2EBFA;\n",
              "      --hover-fill-color: #174EA6;\n",
              "      --disabled-fill-color: #AAA;\n",
              "      --disabled-bg-color: #DDD;\n",
              "  }\n",
              "\n",
              "  [theme=dark] .colab-df-quickchart {\n",
              "      --bg-color: #3B4455;\n",
              "      --fill-color: #D2E3FC;\n",
              "      --hover-bg-color: #434B5C;\n",
              "      --hover-fill-color: #FFFFFF;\n",
              "      --disabled-bg-color: #3B4455;\n",
              "      --disabled-fill-color: #666;\n",
              "  }\n",
              "\n",
              "  .colab-df-quickchart {\n",
              "    background-color: var(--bg-color);\n",
              "    border: none;\n",
              "    border-radius: 50%;\n",
              "    cursor: pointer;\n",
              "    display: none;\n",
              "    fill: var(--fill-color);\n",
              "    height: 32px;\n",
              "    padding: 0;\n",
              "    width: 32px;\n",
              "  }\n",
              "\n",
              "  .colab-df-quickchart:hover {\n",
              "    background-color: var(--hover-bg-color);\n",
              "    box-shadow: 0 1px 2px rgba(60, 64, 67, 0.3), 0 1px 3px 1px rgba(60, 64, 67, 0.15);\n",
              "    fill: var(--button-hover-fill-color);\n",
              "  }\n",
              "\n",
              "  .colab-df-quickchart-complete:disabled,\n",
              "  .colab-df-quickchart-complete:disabled:hover {\n",
              "    background-color: var(--disabled-bg-color);\n",
              "    fill: var(--disabled-fill-color);\n",
              "    box-shadow: none;\n",
              "  }\n",
              "\n",
              "  .colab-df-spinner {\n",
              "    border: 2px solid var(--fill-color);\n",
              "    border-color: transparent;\n",
              "    border-bottom-color: var(--fill-color);\n",
              "    animation:\n",
              "      spin 1s steps(1) infinite;\n",
              "  }\n",
              "\n",
              "  @keyframes spin {\n",
              "    0% {\n",
              "      border-color: transparent;\n",
              "      border-bottom-color: var(--fill-color);\n",
              "      border-left-color: var(--fill-color);\n",
              "    }\n",
              "    20% {\n",
              "      border-color: transparent;\n",
              "      border-left-color: var(--fill-color);\n",
              "      border-top-color: var(--fill-color);\n",
              "    }\n",
              "    30% {\n",
              "      border-color: transparent;\n",
              "      border-left-color: var(--fill-color);\n",
              "      border-top-color: var(--fill-color);\n",
              "      border-right-color: var(--fill-color);\n",
              "    }\n",
              "    40% {\n",
              "      border-color: transparent;\n",
              "      border-right-color: var(--fill-color);\n",
              "      border-top-color: var(--fill-color);\n",
              "    }\n",
              "    60% {\n",
              "      border-color: transparent;\n",
              "      border-right-color: var(--fill-color);\n",
              "    }\n",
              "    80% {\n",
              "      border-color: transparent;\n",
              "      border-right-color: var(--fill-color);\n",
              "      border-bottom-color: var(--fill-color);\n",
              "    }\n",
              "    90% {\n",
              "      border-color: transparent;\n",
              "      border-bottom-color: var(--fill-color);\n",
              "    }\n",
              "  }\n",
              "</style>\n",
              "\n",
              "  <script>\n",
              "    async function quickchart(key) {\n",
              "      const quickchartButtonEl =\n",
              "        document.querySelector('#' + key + ' button');\n",
              "      quickchartButtonEl.disabled = true;  // To prevent multiple clicks.\n",
              "      quickchartButtonEl.classList.add('colab-df-spinner');\n",
              "      try {\n",
              "        const charts = await google.colab.kernel.invokeFunction(\n",
              "            'suggestCharts', [key], {});\n",
              "      } catch (error) {\n",
              "        console.error('Error during call to suggestCharts:', error);\n",
              "      }\n",
              "      quickchartButtonEl.classList.remove('colab-df-spinner');\n",
              "      quickchartButtonEl.classList.add('colab-df-quickchart-complete');\n",
              "    }\n",
              "    (() => {\n",
              "      let quickchartButtonEl =\n",
              "        document.querySelector('#df-69f489a5-3fe3-4756-899b-199de98b1048 button');\n",
              "      quickchartButtonEl.style.display =\n",
              "        google.colab.kernel.accessAllowed ? 'block' : 'none';\n",
              "    })();\n",
              "  </script>\n",
              "</div>\n",
              "\n",
              "    </div>\n",
              "  </div>\n"
            ],
            "application/vnd.google.colaboratory.intrinsic+json": {
              "type": "dataframe",
              "variable_name": "train_df_engineered",
              "summary": "{\n  \"name\": \"train_df_engineered\",\n  \"rows\": 36157,\n  \"fields\": [\n    {\n      \"column\": \"client_id\",\n      \"properties\": {\n        \"dtype\": \"string\",\n        \"num_unique_values\": 36157,\n        \"samples\": [\n          \"d12ee68764a1134467595f340ae4b7c89f23d5e1ef2c2b70ff06df6d3e2e2806\",\n          \"9d6c7c05877393343312f10c75c8e4597658b8fdc09673fb6c5e841b35855912\",\n          \"49e7aa51ef729c26442e1139b853b9c2ccc38308c7b499e766485c3b16a47b40\"\n        ],\n        \"semantic_type\": \"\",\n        \"description\": \"\"\n      }\n    },\n    {\n      \"column\": \"Loan_Type\",\n      \"properties\": {\n        \"dtype\": \"category\",\n        \"num_unique_values\": 3,\n        \"samples\": [\n          \"Group Loan\",\n          \"Individual Loan\",\n          \"Paygo Loan\"\n        ],\n        \"semantic_type\": \"\",\n        \"description\": \"\"\n      }\n    },\n    {\n      \"column\": \"region\",\n      \"properties\": {\n        \"dtype\": \"category\",\n        \"num_unique_values\": 5,\n        \"samples\": [\n          \"Lower Western\",\n          \"Mount Kenya\",\n          \"Nyanza\"\n        ],\n        \"semantic_type\": \"\",\n        \"description\": \"\"\n      }\n    },\n    {\n      \"column\": \"duka_name\",\n      \"properties\": {\n        \"dtype\": \"category\",\n        \"num_unique_values\": 267,\n        \"samples\": [\n          \"Ahero\",\n          \"Serem\",\n          \"Sibanga\"\n        ],\n        \"semantic_type\": \"\",\n        \"description\": \"\"\n      }\n    },\n    {\n      \"column\": \"cumulative_amount_paid\",\n      \"properties\": {\n        \"dtype\": \"number\",\n        \"std\": 3080.494187746557,\n        \"min\": 0.0,\n        \"max\": 25045.7843177259,\n        \"num_unique_values\": 36157,\n        \"samples\": [\n          3482.62490294279,\n          74.5108661500298,\n          6036.08672345242\n        ],\n        \"semantic_type\": \"\",\n        \"description\": \"\"\n      }\n    },\n    {\n      \"column\": \"nominal_contract_value\",\n      \"properties\": {\n        \"dtype\": \"number\",\n        \"std\": 3439.9516908952,\n        \"min\": 0.0545893143551321,\n        \"max\": 30779.3677008726,\n        \"num_unique_values\": 36157,\n        \"samples\": [\n          6294.96164070933,\n          191.474298289039,\n          6036.08672345242\n        ],\n        \"semantic_type\": \"\",\n        \"description\": \"\"\n      }\n    },\n    {\n      \"column\": \"deposit_amount\",\n      \"properties\": {\n        \"dtype\": \"number\",\n        \"std\": 777.0513237487339,\n        \"min\": 0.0,\n        \"max\": 11165.0041780761,\n        \"num_unique_values\": 36108,\n        \"samples\": [\n          1857.09118062304,\n          48.1253068089797,\n          296.185272343503\n        ],\n        \"semantic_type\": \"\",\n        \"description\": \"\"\n      }\n    },\n    {\n      \"column\": \"area\",\n      \"properties\": {\n        \"dtype\": \"category\",\n        \"num_unique_values\": 57,\n        \"samples\": [\n          \"UW10\",\n          \"LW9\",\n          \"LW14\"\n        ],\n        \"semantic_type\": \"\",\n        \"description\": \"\"\n      }\n    },\n    {\n      \"column\": \"sales_territory\",\n      \"properties\": {\n        \"dtype\": \"category\",\n        \"num_unique_values\": 839,\n        \"samples\": [\n          \"Sales Territory 647\",\n          \"Sales Territory 972\",\n          \"Sales Territory 479\"\n        ],\n        \"semantic_type\": \"\",\n        \"description\": \"\"\n      }\n    },\n    {\n      \"column\": \"cumulative_amount_paid_start\",\n      \"properties\": {\n        \"dtype\": \"number\",\n        \"std\": 2002.4502160344725,\n        \"min\": -6198.00818473836,\n        \"max\": 17544.4013113763,\n        \"num_unique_values\": 36153,\n        \"samples\": [\n          330.54026015472,\n          629.893319218213,\n          1749.33346106261\n        ],\n        \"semantic_type\": \"\",\n        \"description\": \"\"\n      }\n    },\n    {\n      \"column\": \"days_since_start\",\n      \"properties\": {\n        \"dtype\": \"number\",\n        \"std\": 16,\n        \"min\": 245,\n        \"max\": 302,\n        \"num_unique_values\": 56,\n        \"samples\": [\n          245,\n          278,\n          280\n        ],\n        \"semantic_type\": \"\",\n        \"description\": \"\"\n      }\n    },\n    {\n      \"column\": \"deposit_ratio\",\n      \"properties\": {\n        \"dtype\": \"number\",\n        \"std\": 0.09085630884548167,\n        \"min\": 0.0,\n        \"max\": 0.9947774185525995,\n        \"num_unique_values\": 34463,\n        \"samples\": [\n          0.25495919461488137,\n          0.21052631578947364,\n          0.09900696018930139\n        ],\n        \"semantic_type\": \"\",\n        \"description\": \"\"\n      }\n    }\n  ]\n}"
            }
          },
          "metadata": {},
          "execution_count": 32
        }
      ]
    },
    {
      "cell_type": "code",
      "source": [
        "# Correlation Analysis for numerical features\n",
        "\n",
        "df_encoded = train_df_engineered.copy()\n",
        "\n",
        "# categorical features\n",
        "categorical_features = ['area', 'Loan_Type', 'region', 'sales_territory', 'duka_name']\n",
        "\n",
        "# Encoding categorical features\n",
        "for feature in categorical_features:\n",
        "    df_encoded[feature] = df_encoded[feature].astype('category').cat.codes\n",
        "\n",
        "# features to calculate correlation with the target variable\n",
        "features = [\n",
        "    'nominal_contract_value',\n",
        "    'cumulative_amount_paid_start',\n",
        "    'deposit_amount',\n",
        "    'Loan_Type',\n",
        "    'region',\n",
        "    'deposit_ratio',\n",
        "    'area',\n",
        "    'days_since_start',\n",
        "    'sales_territory',\n",
        "    'duka_name'\n",
        "]\n",
        "\n",
        "# Calculate correlation of each feature with cumulative_amount_paid\n",
        "correlations = df_encoded[features + ['cumulative_amount_paid']].corr()['cumulative_amount_paid'].drop('cumulative_amount_paid')\n",
        "\n",
        "# Plotting the correlations as a bar plot\n",
        "plt.figure(figsize=(10, 6))\n",
        "correlations.plot(kind='bar', color='skyblue')\n",
        "plt.title('Correlation of Features with Target Variable (cumulative_amount_paid)')\n",
        "plt.xlabel('Features')\n",
        "plt.ylabel('Correlation Coefficient')\n",
        "plt.xticks(rotation=45, ha='right')\n",
        "plt.tight_layout()\n",
        "plt.show()\n"
      ],
      "metadata": {
        "colab": {
          "base_uri": "https://localhost:8080/",
          "height": 607
        },
        "id": "aivK3BenjC80",
        "outputId": "39a715e2-4416-4c05-d79c-60b7f640c635"
      },
      "execution_count": 33,
      "outputs": [
        {
          "output_type": "display_data",
          "data": {
            "text/plain": [
              "<Figure size 1000x600 with 1 Axes>"
            ],
            "image/png": "[encoded data removed]"
          },
          "metadata": {}
        }
      ]
    },
    {
      "cell_type": "code",
      "source": [
        "# Sort the already computed correlations by absolute values in descending order\n",
        "top_correlations = correlations.abs().sort_values(ascending=False)\n",
        "\n",
        "# Display the top correlated features\n",
        "print(\"Top Correlated Features with Target:\")\n",
        "print(top_correlations)"
      ],
      "metadata": {
        "colab": {
          "base_uri": "https://localhost:8080/"
        },
        "id": "CdRTLCGLgna6",
        "outputId": "e2a70a0b-d752-4cb6-eb18-cfbfb12c5053"
      },
      "execution_count": 34,
      "outputs": [
        {
          "output_type": "stream",
          "name": "stdout",
          "text": [
            "Top Correlated Features with Target:\n",
            "nominal_contract_value          0.880303\n",
            "cumulative_amount_paid_start    0.844601\n",
            "deposit_amount                  0.747595\n",
            "Loan_Type                       0.110921\n",
            "region                          0.103210\n",
            "deposit_ratio                   0.097888\n",
            "area                            0.091800\n",
            "days_since_start                0.078638\n",
            "sales_territory                 0.047422\n",
            "duka_name                       0.003928\n",
            "Name: cumulative_amount_paid, dtype: float64\n"
          ]
        }
      ]
    },
    {
      "cell_type": "code",
      "source": [
        "# Separate features based on correlation with target\n",
        "important_features = [\n",
        "    'nominal_contract_value',\n",
        "    'cumulative_amount_paid_start',\n",
        "    'deposit_amount',\n",
        "    'Loan_Type',\n",
        "    'region',\n",
        "    'deposit_ratio',\n",
        "    'area',\n",
        "    'days_since_start',\n",
        "    'sales_territory',\n",
        "    'duka_name'\n",
        "]\n",
        "\n",
        "# Store client_ids\n",
        "train_ids = train_df_engineered['client_id']\n",
        "holdout_ids = holdout_df_engineered['client_id']\n",
        "\n",
        "# Drop client_id\n",
        "train_df_engineered = train_df_engineered.drop('client_id', axis=1)\n",
        "holdout_df_engineered = holdout_df_engineered.drop('client_id', axis=1)"
      ],
      "metadata": {
        "id": "9LPWV876D3Og"
      },
      "execution_count": 35,
      "outputs": []
    },
    {
      "cell_type": "markdown",
      "source": [
        "**Modeling**\n"
      ],
      "metadata": {
        "id": "QJ1FlG0RVYJQ"
      }
    },
    {
      "cell_type": "markdown",
      "source": [],
      "metadata": {
        "id": "7ov4zE_cVX_n"
      }
    },
    {
      "cell_type": "code",
      "source": [
        "# Prepare for modeling\n",
        "# Separate target variable\n",
        "X = train_df_engineered[important_features]\n",
        "y = train_df_engineered['cumulative_amount_paid']\n",
        "X_holdout = holdout_df_engineered[important_features]\n",
        "\n",
        "# Initialize encoders and scalers\n",
        "categorical_features = ['Loan_Type', 'region', 'area', 'sales_territory', 'duka_name']\n",
        "numerical_features = [f for f in important_features if f not in categorical_features]\n",
        "\n",
        "# Label Encoding\n",
        "# Dictionary to hold the encoders for each categorical feature\n",
        "encoders = {}\n",
        "\n",
        "for cat_feature in categorical_features:\n",
        "    le = LabelEncoder()\n",
        "\n",
        "    # Fit on the training data\n",
        "    X[cat_feature] = le.fit_transform(X[cat_feature])\n",
        "\n",
        "    # Store the encoder for future use\n",
        "    encoders[cat_feature] = le\n",
        "\n",
        "    # Transform the holdout data, handling unseen categories\n",
        "    def encode_with_unknown(value):\n",
        "        if value in le.classes_:\n",
        "            return le.transform([value])[0]\n",
        "        else:\n",
        "            return len(le.classes_)\n",
        "\n",
        "    X_holdout[cat_feature] = X_holdout[cat_feature].apply(encode_with_unknown)\n",
        "\n",
        "\n",
        "# Scaling the training data\n",
        "scaler = StandardScaler()\n",
        "X[numerical_features] = scaler.fit_transform(X[numerical_features])\n",
        "X_holdout[numerical_features] = scaler.transform(X_holdout[numerical_features])"
      ],
      "metadata": {
        "id": "Oq_pLTR7D5TW"
      },
      "execution_count": 37,
      "outputs": []
    },
    {
      "cell_type": "code",
      "source": [
        "# Split training data\n",
        "X_train, X_val, y_train, y_val = train_test_split(X, y, test_size=0.2, random_state=42)\n",
        "\n",
        "# Model parameters\n",
        "rf_params = {\n",
        "    'n_estimators': [100, 200],\n",
        "    'max_depth': [10, 20, None],\n",
        "    'min_samples_split': [2, 5],\n",
        "    'min_samples_leaf': [1, 2],\n",
        "    'max_features': ['sqrt', 'log2']\n",
        "}\n",
        "\n",
        "xgb_params = {\n",
        "    'n_estimators': [100, 200],\n",
        "    'max_depth': [3, 5, 7],\n",
        "    'learning_rate': [0.01, 0.1],\n",
        "    'subsample': [0.8, 1.0],\n",
        "    'colsample_bytree': [0.8, 1.0]\n",
        "}"
      ],
      "metadata": {
        "id": "YNZt3Ve_T4CE"
      },
      "execution_count": 38,
      "outputs": []
    },
    {
      "cell_type": "code",
      "source": [
        "def plot_learning_curves(model, X, y, model_name):\n",
        "    \"\"\"Plot learning curves to detect overfitting/underfitting.\"\"\"\n",
        "    train_sizes, train_scores, val_scores = learning_curve(\n",
        "        model, X, y, cv=5, n_jobs=-1,\n",
        "        train_sizes=np.linspace(0.1, 1.0, 10),\n",
        "        scoring='neg_mean_squared_error'\n",
        "    )\n",
        "\n",
        "    # Calculate mean and std\n",
        "    train_mean = np.sqrt(-train_scores.mean(axis=1))\n",
        "    train_std = np.sqrt(-train_scores.std(axis=1))\n",
        "    val_mean = np.sqrt(-val_scores.mean(axis=1))\n",
        "    val_std = np.sqrt(-val_scores.std(axis=1))\n",
        "\n",
        "    plt.figure(figsize=(10, 6))\n",
        "    plt.plot(train_sizes, train_mean, label='Training RMSE')\n",
        "    plt.plot(train_sizes, val_mean, label='Cross-validation RMSE')\n",
        "    plt.fill_between(train_sizes, train_mean - train_std, train_mean + train_std, alpha=0.1)\n",
        "    plt.fill_between(train_sizes, val_mean - val_std, val_mean + val_std, alpha=0.1)\n",
        "    plt.xlabel('Training Set Size')\n",
        "    plt.ylabel('RMSE')\n",
        "    plt.title(f'Learning Curves - {model_name}')\n",
        "    plt.legend(loc='best')\n",
        "    plt.grid(True)\n",
        "    plt.show()"
      ],
      "metadata": {
        "id": "DDGeLNVGP4Ai"
      },
      "execution_count": 39,
      "outputs": []
    },
    {
      "cell_type": "code",
      "source": [
        "def analyze_feature_importance(model, feature_names, model_name):\n",
        "    \"\"\"Analyze and plot feature importance.\"\"\"\n",
        "    if hasattr(model, 'feature_importances_'):\n",
        "        importances = model.feature_importances_\n",
        "        indices = np.argsort(importances)[::-1]\n",
        "\n",
        "        plt.figure(figsize=(10, 6))\n",
        "        plt.title(f'Feature Importance - {model_name}')\n",
        "        plt.bar(range(len(indices[:10])), importances[indices[:10]])\n",
        "        plt.xticks(range(len(indices[:10])), [feature_names[i] for i in indices[:10]], rotation=45, ha='right')\n",
        "        plt.tight_layout()\n",
        "        plt.show()"
      ],
      "metadata": {
        "id": "oi-Ko47nP_Fq"
      },
      "execution_count": 40,
      "outputs": []
    },
    {
      "cell_type": "code",
      "source": [
        "# Train and evaluate models\n",
        "def train_and_evaluate_model(model, params, X_train, X_val, y_train, y_val, model_name):\n",
        "    # Initial training and evaluation\n",
        "    grid_search = GridSearchCV(model, params, cv=5, scoring='neg_mean_squared_error', n_jobs=-1)\n",
        "    grid_search.fit(X_train, y_train)\n",
        "\n",
        "    best_model = grid_search.best_estimator_\n",
        "\n",
        "    # Make predictions\n",
        "    train_pred = best_model.predict(X_train)\n",
        "    val_pred = best_model.predict(X_val)\n",
        "\n",
        "    # Calculate metrics\n",
        "    results = {\n",
        "        'model_name': model_name,\n",
        "        'best_params': grid_search.best_params_,\n",
        "        'train_rmse': np.sqrt(mean_squared_error(y_train, train_pred)),\n",
        "        'val_rmse': np.sqrt(mean_squared_error(y_val, val_pred)),\n",
        "        'train_r2': r2_score(y_train, train_pred),\n",
        "        'val_r2': r2_score(y_val, val_pred)\n",
        "    }\n",
        "\n",
        "    # Check for overfitting\n",
        "    rmse_diff = results['val_rmse'] - results['train_rmse']\n",
        "    rmse_ratio = results['val_rmse'] / results['train_rmse']\n",
        "\n",
        "    if rmse_ratio > 1.3:  # Overfitting threshold\n",
        "        print(f\"\\n⚠️ Potential overfitting detected for {model_name}:\")\n",
        "        print(f\"Train-Validation RMSE gap: {rmse_diff:.2f}\")\n",
        "        print(f\"RMSE ratio (Val/Train): {rmse_ratio:.2f}\")\n",
        "\n",
        "        # Adjust parameters for overfitting\n",
        "        if isinstance(model, RandomForestRegressor):\n",
        "            new_params = {\n",
        "                'n_estimators': [100, 200],\n",
        "                'max_depth': [5, 8, 10],\n",
        "                'min_samples_split': [5, 10],\n",
        "                'min_samples_leaf': [2, 4],\n",
        "                'max_features': ['sqrt', 'log2']\n",
        "            }\n",
        "        else:  # XGBoost\n",
        "            new_params = {\n",
        "                'n_estimators': [100, 200],\n",
        "                'max_depth': [3, 4, 5],\n",
        "                'learning_rate': [0.01, 0.05],\n",
        "                'subsample': [0.8, 0.9],\n",
        "                'colsample_bytree': [0.8, 0.9]\n",
        "            }\n",
        "\n",
        "        print(\"\\nRetraining with adjusted parameters...\")\n",
        "        grid_search = GridSearchCV(model, new_params, cv=5, scoring='neg_mean_squared_error', n_jobs=-1)\n",
        "        grid_search.fit(X_train, y_train)\n",
        "\n",
        "        best_model = grid_search.best_estimator_\n",
        "        train_pred = best_model.predict(X_train)\n",
        "        val_pred = best_model.predict(X_val)\n",
        "\n",
        "        # Update results\n",
        "        results.update({\n",
        "            'best_params': grid_search.best_params_,\n",
        "            'train_rmse': np.sqrt(mean_squared_error(y_train, train_pred)),\n",
        "            'val_rmse': np.sqrt(mean_squared_error(y_val, val_pred)),\n",
        "            'train_r2': r2_score(y_train, train_pred),\n",
        "            'val_r2': r2_score(y_val, val_pred)\n",
        "        })\n",
        "\n",
        "    elif rmse_ratio < 1.1 and results['val_r2'] < 0.7:  # Underfitting threshold\n",
        "        print(f\"\\n⚠️ Potential underfitting detected for {model_name}:\")\n",
        "        print(f\"Low R² score: {results['val_r2']:.4f}\")\n",
        "\n",
        "        # Adjust parameters for underfitting\n",
        "        if isinstance(model, RandomForestRegressor):\n",
        "            new_params = {\n",
        "                'n_estimators': [200, 300],\n",
        "                'max_depth': [15, 20, None],\n",
        "                'min_samples_split': [2],\n",
        "                'min_samples_leaf': [1]\n",
        "            }\n",
        "        else:  # XGBoost\n",
        "            new_params = {\n",
        "                'n_estimators': [200, 300],\n",
        "                'max_depth': [6, 8],\n",
        "                'learning_rate': [0.1, 0.2],\n",
        "                'min_child_weight': [1, 3]\n",
        "            }\n",
        "\n",
        "        print(\"\\nRetraining with adjusted parameters...\")\n",
        "        grid_search = GridSearchCV(model, new_params, cv=5, scoring='neg_mean_squared_error', n_jobs=-1)\n",
        "        grid_search.fit(X_train, y_train)\n",
        "\n",
        "        best_model = grid_search.best_estimator_\n",
        "        train_pred = best_model.predict(X_train)\n",
        "        val_pred = best_model.predict(X_val)\n",
        "\n",
        "        # Update results\n",
        "        results.update({\n",
        "            'best_params': grid_search.best_params_,\n",
        "            'train_rmse': np.sqrt(mean_squared_error(y_train, train_pred)),\n",
        "            'val_rmse': np.sqrt(mean_squared_error(y_val, val_pred)),\n",
        "            'train_r2': r2_score(y_train, train_pred),\n",
        "            'val_r2': r2_score(y_val, val_pred)\n",
        "        })\n",
        "\n",
        "    # Plot learning curves and feature importance\n",
        "    plot_learning_curves(best_model, X_train, y_train, model_name)\n",
        "    analyze_feature_importance(best_model, list(X_train.columns), model_name)\n",
        "\n",
        "    return best_model, results\n",
        "\n",
        "\n",
        "rf_model, rf_results = train_and_evaluate_model(\n",
        "    RandomForestRegressor(random_state=42),\n",
        "    rf_params,\n",
        "    X_train, X_val, y_train, y_val,\n",
        "    'Random Forest'\n",
        ")\n",
        "\n",
        "xgb_model, xgb_results = train_and_evaluate_model(\n",
        "    XGBRegressor(random_state=42),\n",
        "    xgb_params,\n",
        "    X_train, X_val, y_train, y_val,\n",
        "    'XGBoost'\n",
        ")\n"
      ],
      "metadata": {
        "id": "wTdxI7GVE_RN",
        "colab": {
          "base_uri": "https://localhost:8080/",
          "height": 1000
        },
        "outputId": "85f69c2a-8e85-42a8-ecb5-26b8b9be4b65"
      },
      "execution_count": 41,
      "outputs": [
        {
          "output_type": "stream",
          "name": "stdout",
          "text": [
            "\n",
            "⚠️ Potential overfitting detected for Random Forest:\n",
            "Train-Validation RMSE gap: 538.94\n",
            "RMSE ratio (Val/Train): 1.91\n",
            "\n",
            "Retraining with adjusted parameters...\n"
          ]
        },
        {
          "output_type": "display_data",
          "data": {
            "text/plain": [
              "<Figure size 1000x600 with 1 Axes>"
            ],
            "image/png": "[encoded data removed]"
          },
          "metadata": {}
        },
        {
          "output_type": "stream",
          "name": "stdout",
          "text": [
            "\n",
            "⚠️ Potential overfitting detected for XGBoost:\n",
            "Train-Validation RMSE gap: 492.57\n",
            "RMSE ratio (Val/Train): 1.78\n",
            "\n",
            "Retraining with adjusted parameters...\n"
          ]
        },
        {
          "output_type": "display_data",
          "data": {
            "text/plain": [
              "<Figure size 1000x600 with 1 Axes>"
            ],
            "image/png": "[encoded data removed]"
          },
          "metadata": {}
        },
        {
          "output_type": "display_data",
          "data": {
            "text/plain": [
              "<Figure size 1000x600 with 1 Axes>"
            ],
            "image/png": "[encoded data removed]"
          },
          "metadata": {}
        }
      ]
    },
    {
      "cell_type": "code",
      "source": [
        "#print_model_results function\n",
        "def print_model_results(results):\n",
        "    print(f\"\\n=== {results['model_name']} Results ===\")\n",
        "    print(f\"Best Parameters: {results['best_params']}\")\n",
        "    print(f\"Train RMSE: {results['train_rmse']:.2f}\")\n",
        "    print(f\"Validation RMSE: {results['val_rmse']:.2f}\")\n",
        "    print(f\"Train R2: {results['train_r2']:.4f}\")\n",
        "    print(f\"Validation R2: {results['val_r2']:.4f}\")\n",
        "    print(f\"Validation/Train RMSE Ratio: {(results['val_rmse'] / results['train_rmse']):.3f}\")\n",
        "\n",
        "print_model_results(rf_results)\n",
        "print_model_results(xgb_results)\n"
      ],
      "metadata": {
        "colab": {
          "base_uri": "https://localhost:8080/"
        },
        "id": "diyuidZ4FIc-",
        "outputId": "e4bd516f-65f9-4af2-9b9c-5a231dc9ab57"
      },
      "execution_count": 45,
      "outputs": [
        {
          "output_type": "stream",
          "name": "stdout",
          "text": [
            "\n",
            "=== Random Forest Results ===\n",
            "Best Parameters: {'max_depth': 10, 'max_features': 'sqrt', 'min_samples_leaf': 4, 'min_samples_split': 5, 'n_estimators': 200}\n",
            "Train RMSE: 950.81\n",
            "Validation RMSE: 1142.28\n",
            "Train R2: 0.9037\n",
            "Validation R2: 0.8679\n",
            "Validation/Train RMSE Ratio: 1.201\n",
            "\n",
            "=== XGBoost Results ===\n",
            "Best Parameters: {'colsample_bytree': 0.9, 'learning_rate': 0.05, 'max_depth': 5, 'n_estimators': 200, 'subsample': 0.8}\n",
            "Train RMSE: 938.70\n",
            "Validation RMSE: 1119.97\n",
            "Train R2: 0.9062\n",
            "Validation R2: 0.8730\n",
            "Validation/Train RMSE Ratio: 1.193\n"
          ]
        }
      ]
    },
    {
      "cell_type": "code",
      "source": [
        "# Select best model based on validation RMSE\n",
        "best_model = rf_model if rf_results['val_r2'] > xgb_results['val_r2'] else xgb_model\n",
        "best_model_name = 'Random Forest' if rf_results['val_r2'] > xgb_results['val_r2'] else 'XGBoost'\n",
        "\n",
        "print(f\"\\n=== Best Model: {best_model_name} ===\")"
      ],
      "metadata": {
        "colab": {
          "base_uri": "https://localhost:8080/"
        },
        "id": "HB_50u_uFLPm",
        "outputId": "09f11919-2060-4d0e-f39c-f44dccf905b3"
      },
      "execution_count": 46,
      "outputs": [
        {
          "output_type": "stream",
          "name": "stdout",
          "text": [
            "\n",
            "=== Best Model: XGBoost ===\n"
          ]
        }
      ]
    },
    {
      "cell_type": "markdown",
      "source": [
        "**Feature Results**"
      ],
      "metadata": {
        "id": "mDpboS5_Vd_j"
      }
    },
    {
      "cell_type": "code",
      "source": [
        "# Feature importance plot\n",
        "def plot_feature_importance(model, feature_names):\n",
        "    importance = model.feature_importances_\n",
        "    feat_importance = pd.DataFrame({\n",
        "        'feature': feature_names,\n",
        "        'importance': importance\n",
        "    })\n",
        "    feat_importance = feat_importance.sort_values('importance', ascending=False)\n",
        "\n",
        "    plt.figure(figsize=(10, 6))\n",
        "    sns.barplot(x='importance', y='feature', data=feat_importance)\n",
        "    plt.title('Feature Importance')\n",
        "    plt.tight_layout()\n",
        "    plt.show()\n",
        "\n",
        "    return feat_importance\n",
        "\n",
        "feature_importance = plot_feature_importance(best_model, X.columns)\n",
        "print(\"\\nTop 10 Most Important Features:\")\n",
        "print(feature_importance.head(10))"
      ],
      "metadata": {
        "colab": {
          "base_uri": "https://localhost:8080/",
          "height": 833
        },
        "id": "ow4PhcV9FOEu",
        "outputId": "745a2e70-f300-468f-f454-094ca9489bbc"
      },
      "execution_count": 47,
      "outputs": [
        {
          "output_type": "display_data",
          "data": {
            "text/plain": [
              "<Figure size 1000x600 with 1 Axes>"
            ],
            "image/png": "[encoded data removed]"
          },
          "metadata": {}
        },
        {
          "output_type": "stream",
          "name": "stdout",
          "text": [
            "\n",
            "Top 10 Most Important Features:\n",
            "                        feature  importance\n",
            "0        nominal_contract_value    0.672222\n",
            "1  cumulative_amount_paid_start    0.153424\n",
            "4                        region    0.056380\n",
            "6                          area    0.031453\n",
            "5                 deposit_ratio    0.019399\n",
            "2                deposit_amount    0.015232\n",
            "9                     duka_name    0.014797\n",
            "7              days_since_start    0.013551\n",
            "8               sales_territory    0.013531\n",
            "3                     Loan_Type    0.010011\n"
          ]
        }
      ]
    },
    {
      "cell_type": "markdown",
      "source": [
        "**Holdout Prediction**"
      ],
      "metadata": {
        "id": "l-y5K2KWVjVR"
      }
    },
    {
      "cell_type": "code",
      "source": [
        "# Generate predictions for holdout set\n",
        "holdout_predictions = best_model.predict(X_holdout)\n",
        "\n",
        "# Create file\n",
        "submission_df = pd.DataFrame({\n",
        "    'client_id': holdout_ids,\n",
        "    'predicted_cumulative_amount_paid': holdout_predictions\n",
        "})\n",
        "\n",
        "submission_df.to_csv('predictions.csv', index=False)\n",
        "print(\"\\nPredictions saved to 'predictions.csv'\")"
      ],
      "metadata": {
        "colab": {
          "base_uri": "https://localhost:8080/"
        },
        "id": "-tIpkRoQFRVf",
        "outputId": "31005f43-7571-4c25-a489-abbdf3db15fa"
      },
      "execution_count": 48,
      "outputs": [
        {
          "output_type": "stream",
          "name": "stdout",
          "text": [
            "\n",
            "Predictions saved to 'predictions.csv'\n"
          ]
        }
      ]
    }
  ]
}